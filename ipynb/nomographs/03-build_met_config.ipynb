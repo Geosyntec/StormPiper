{
 "cells": [
  {
   "cell_type": "code",
   "execution_count": 2,
   "metadata": {},
   "outputs": [],
   "source": [
    "from io import StringIO\n",
    "\n",
    "from pathlib import Path\n",
    "import pandas\n",
    "\n",
    "import json"
   ]
  },
  {
   "cell_type": "code",
   "execution_count": 6,
   "metadata": {},
   "outputs": [],
   "source": [
    "def create_nomo_dataframe() -> pandas.DataFrame:\n",
    "\n",
    "    string = \"\"\"\n",
    "epoch\tvolume_nomograph\tflow_nomograph\n",
    "1980s\tnomographs/volume/1980s.csv\tnomographs/flow/1980s.csv\n",
    "2030s\tnomographs/volume/2030s.csv\tnomographs/flow/2030s.csv\n",
    "2050s\tnomographs/volume/2050s.csv\tnomographs/flow/2050s.csv\n",
    "2080s\tnomographs/volume/2080s.csv\tnomographs/flow/2080s.csv\n",
    "\"\"\"\n",
    "\n",
    "    df = pandas.read_table(StringIO(string))\n",
    "\n",
    "    return df\n",
    "\n",
    "met = (\n",
    "    create_nomo_dataframe()\n",
    ")\n",
    "\n",
    "with open('nomo.json', 'w') as f:\n",
    "    f.write(met.to_json(orient='table', indent=2, index=False))"
   ]
  },
  {
   "cell_type": "code",
   "execution_count": 7,
   "metadata": {},
   "outputs": [
    {
     "data": {
      "text/html": [
       "<div>\n",
       "<style scoped>\n",
       "    .dataframe tbody tr th:only-of-type {\n",
       "        vertical-align: middle;\n",
       "    }\n",
       "\n",
       "    .dataframe tbody tr th {\n",
       "        vertical-align: top;\n",
       "    }\n",
       "\n",
       "    .dataframe thead th {\n",
       "        text-align: right;\n",
       "    }\n",
       "</style>\n",
       "<table border=\"1\" class=\"dataframe\">\n",
       "  <thead>\n",
       "    <tr style=\"text-align: right;\">\n",
       "      <th></th>\n",
       "      <th>epoch</th>\n",
       "      <th>volume_nomograph</th>\n",
       "      <th>flow_nomograph</th>\n",
       "    </tr>\n",
       "  </thead>\n",
       "  <tbody>\n",
       "    <tr>\n",
       "      <th>0</th>\n",
       "      <td>1980s</td>\n",
       "      <td>nomographs/volume/1980s.csv</td>\n",
       "      <td>nomographs/flow/1980s.csv</td>\n",
       "    </tr>\n",
       "    <tr>\n",
       "      <th>1</th>\n",
       "      <td>2030s</td>\n",
       "      <td>nomographs/volume/2030s.csv</td>\n",
       "      <td>nomographs/flow/2030s.csv</td>\n",
       "    </tr>\n",
       "    <tr>\n",
       "      <th>2</th>\n",
       "      <td>2050s</td>\n",
       "      <td>nomographs/volume/2050s.csv</td>\n",
       "      <td>nomographs/flow/2050s.csv</td>\n",
       "    </tr>\n",
       "    <tr>\n",
       "      <th>3</th>\n",
       "      <td>2080s</td>\n",
       "      <td>nomographs/volume/2080s.csv</td>\n",
       "      <td>nomographs/flow/2080s.csv</td>\n",
       "    </tr>\n",
       "  </tbody>\n",
       "</table>\n",
       "</div>"
      ],
      "text/plain": [
       "   epoch             volume_nomograph             flow_nomograph\n",
       "0  1980s  nomographs/volume/1980s.csv  nomographs/flow/1980s.csv\n",
       "1  2030s  nomographs/volume/2030s.csv  nomographs/flow/2030s.csv\n",
       "2  2050s  nomographs/volume/2050s.csv  nomographs/flow/2050s.csv\n",
       "3  2080s  nomographs/volume/2080s.csv  nomographs/flow/2080s.csv"
      ]
     },
     "execution_count": 7,
     "metadata": {},
     "output_type": "execute_result"
    }
   ],
   "source": [
    "met"
   ]
  },
  {
   "cell_type": "code",
   "execution_count": null,
   "metadata": {},
   "outputs": [],
   "source": []
  }
 ],
 "metadata": {
  "kernelspec": {
   "display_name": "Python 3.9.13 ('leo')",
   "language": "python",
   "name": "python3"
  },
  "language_info": {
   "codemirror_mode": {
    "name": "ipython",
    "version": 3
   },
   "file_extension": ".py",
   "mimetype": "text/x-python",
   "name": "python",
   "nbconvert_exporter": "python",
   "pygments_lexer": "ipython3",
   "version": "3.9.13"
  },
  "orig_nbformat": 4,
  "vscode": {
   "interpreter": {
    "hash": "aab23f4a5ffcc8d24eacf4d239163b93ed8a0a168b3cae9b304879e3b9c36619"
   }
  }
 },
 "nbformat": 4,
 "nbformat_minor": 2
}
