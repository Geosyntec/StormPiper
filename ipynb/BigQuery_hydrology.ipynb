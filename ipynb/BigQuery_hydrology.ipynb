{
 "cells": [
  {
   "cell_type": "markdown",
   "id": "a0bcca2f",
   "metadata": {},
   "source": [
    "# Get hydrology results from Stormwater Heatmap Modeling \n",
    "\n",
    "This notebook demonstrates how to download HSPF modeling results from BigQuery"
   ]
  },
  {
   "cell_type": "markdown",
   "id": "50ea0753",
   "metadata": {},
   "source": [
    "We will use the pandas_gbq package to interact with BigQuery. See https://googleapis.dev/python/pandas-gbq/latest/ for more info. "
   ]
  },
  {
   "cell_type": "code",
   "execution_count": 14,
   "id": "211a1bbe",
   "metadata": {},
   "outputs": [],
   "source": [
    "import pandas as pd\n",
    "import pandas_gbq"
   ]
  },
  {
   "cell_type": "markdown",
   "id": "2dfe60f7",
   "metadata": {},
   "source": [
    "## Import Libraries"
   ]
  },
  {
   "cell_type": "code",
   "execution_count": 15,
   "id": "732246ac",
   "metadata": {},
   "outputs": [],
   "source": [
    "# Set your default project here\n",
    "pandas_gbq.context.project = 'tnc-data-v1'\n",
    "pandas_gbq.context.dialect = 'standard'"
   ]
  },
  {
   "cell_type": "markdown",
   "id": "bae71f4b",
   "metadata": {},
   "source": [
    "## Build Query  "
   ]
  },
  {
   "cell_type": "markdown",
   "id": "5d4833ec",
   "metadata": {},
   "source": [
    "### Input Query Parameters"
   ]
  },
  {
   "cell_type": "code",
   "execution_count": 29,
   "id": "b9734b4c",
   "metadata": {},
   "outputs": [],
   "source": [
    "table = \"`tnc-data-v1.hydrology.gfdl`\" #table where results are \n",
    "hru = \"hru000\" #hru code \n",
    "year_0 = 1970 #beginning year \n",
    "year_n = 1999 #ending year \n",
    "comps = '(\"suro\", \"ifwo\")' #components \n",
    "    #- available options are:  \n",
    "        #suro (surface runoff), \n",
    "        #ifwo (interflow), and \n",
    "        #agwo (groundwater outflow) - generally not used for stormwater results\n",
    "grid = \"'ID15_V5'\" #WRF grid id "
   ]
  },
  {
   "cell_type": "markdown",
   "id": "17f0548a",
   "metadata": {},
   "source": [
    "**Bonus:** How to find the grid id for a lat, lon point"
   ]
  },
  {
   "cell_type": "code",
   "execution_count": 16,
   "id": "5b29b378",
   "metadata": {},
   "outputs": [],
   "source": [
    "#example sql statment\n",
    "sql = \"\"\"select id  \n",
    "from \n",
    "geometry.cigGeo\n",
    "where \n",
    "ST_DWithin(\n",
    "  st_geogpoint(-122.4443, 47.2529)\n",
    "  , polygon, 0) \n",
    "  \"\"\"\n",
    "\n",
    "#--not run (uncomment to run)\n",
    "#send statement \n",
    "# pandas_gbq.read_gbq(sql,project_id='tnc-data-v1')\n",
    "# returns: \n",
    "# > 15_V5"
   ]
  },
  {
   "cell_type": "markdown",
   "id": "81b3fe62",
   "metadata": {},
   "source": [
    "## Query Statement"
   ]
  },
  {
   "cell_type": "code",
   "execution_count": 31,
   "id": "5147f27d",
   "metadata": {},
   "outputs": [],
   "source": [
    "sql = \"\"\"\n",
    "SELECT\n",
    "  Datetime,\n",
    "  SUM({}) AS mm_per_hour\n",
    "FROM\n",
    "  {}\n",
    "WHERE\n",
    "  year BETWEEN {}\n",
    "  AND {}\n",
    "  AND comp in {}\n",
    "  AND grid = {}\n",
    "GROUP BY\n",
    "  Datetime\n",
    "ORDER BY\n",
    "  Datetime\n",
    "\"\"\".format(hru,table,year_0,year_n,comps,grid)\n"
   ]
  },
  {
   "cell_type": "markdown",
   "id": "367b7fa6",
   "metadata": {},
   "source": [
    "# Get results"
   ]
  },
  {
   "cell_type": "code",
   "execution_count": 32,
   "id": "76a0614f",
   "metadata": {},
   "outputs": [
    {
     "name": "stderr",
     "output_type": "stream",
     "text": [
      "/opt/miniconda3/envs/stormpiper/lib/python3.8/site-packages/google/cloud/bigquery/table.py:1939: UserWarning: A progress bar was requested, but there was an error loading the tqdm library. Please install tqdm to use the progress bar functionality.\n",
      "  record_batch = self.to_arrow(\n"
     ]
    },
    {
     "data": {
      "text/html": [
       "<div>\n",
       "<style scoped>\n",
       "    .dataframe tbody tr th:only-of-type {\n",
       "        vertical-align: middle;\n",
       "    }\n",
       "\n",
       "    .dataframe tbody tr th {\n",
       "        vertical-align: top;\n",
       "    }\n",
       "\n",
       "    .dataframe thead th {\n",
       "        text-align: right;\n",
       "    }\n",
       "</style>\n",
       "<table border=\"1\" class=\"dataframe\">\n",
       "  <thead>\n",
       "    <tr style=\"text-align: right;\">\n",
       "      <th></th>\n",
       "      <th>Datetime</th>\n",
       "      <th>mm_per_hour</th>\n",
       "    </tr>\n",
       "  </thead>\n",
       "  <tbody>\n",
       "    <tr>\n",
       "      <th>0</th>\n",
       "      <td>1970-01-02 00:00:00+00:00</td>\n",
       "      <td>0.0</td>\n",
       "    </tr>\n",
       "    <tr>\n",
       "      <th>1</th>\n",
       "      <td>1970-01-02 01:00:00+00:00</td>\n",
       "      <td>0.0</td>\n",
       "    </tr>\n",
       "    <tr>\n",
       "      <th>2</th>\n",
       "      <td>1970-01-02 02:00:00+00:00</td>\n",
       "      <td>0.0</td>\n",
       "    </tr>\n",
       "    <tr>\n",
       "      <th>3</th>\n",
       "      <td>1970-01-02 03:00:00+00:00</td>\n",
       "      <td>0.0</td>\n",
       "    </tr>\n",
       "    <tr>\n",
       "      <th>4</th>\n",
       "      <td>1970-01-02 04:00:00+00:00</td>\n",
       "      <td>0.0</td>\n",
       "    </tr>\n",
       "    <tr>\n",
       "      <th>...</th>\n",
       "      <td>...</td>\n",
       "      <td>...</td>\n",
       "    </tr>\n",
       "    <tr>\n",
       "      <th>262939</th>\n",
       "      <td>1999-12-31 19:00:00+00:00</td>\n",
       "      <td>0.0</td>\n",
       "    </tr>\n",
       "    <tr>\n",
       "      <th>262940</th>\n",
       "      <td>1999-12-31 20:00:00+00:00</td>\n",
       "      <td>0.0</td>\n",
       "    </tr>\n",
       "    <tr>\n",
       "      <th>262941</th>\n",
       "      <td>1999-12-31 21:00:00+00:00</td>\n",
       "      <td>0.0</td>\n",
       "    </tr>\n",
       "    <tr>\n",
       "      <th>262942</th>\n",
       "      <td>1999-12-31 22:00:00+00:00</td>\n",
       "      <td>0.0</td>\n",
       "    </tr>\n",
       "    <tr>\n",
       "      <th>262943</th>\n",
       "      <td>1999-12-31 23:00:00+00:00</td>\n",
       "      <td>0.0</td>\n",
       "    </tr>\n",
       "  </tbody>\n",
       "</table>\n",
       "<p>262944 rows × 2 columns</p>\n",
       "</div>"
      ],
      "text/plain": [
       "                        Datetime  mm_per_hour\n",
       "0      1970-01-02 00:00:00+00:00          0.0\n",
       "1      1970-01-02 01:00:00+00:00          0.0\n",
       "2      1970-01-02 02:00:00+00:00          0.0\n",
       "3      1970-01-02 03:00:00+00:00          0.0\n",
       "4      1970-01-02 04:00:00+00:00          0.0\n",
       "...                          ...          ...\n",
       "262939 1999-12-31 19:00:00+00:00          0.0\n",
       "262940 1999-12-31 20:00:00+00:00          0.0\n",
       "262941 1999-12-31 21:00:00+00:00          0.0\n",
       "262942 1999-12-31 22:00:00+00:00          0.0\n",
       "262943 1999-12-31 23:00:00+00:00          0.0\n",
       "\n",
       "[262944 rows x 2 columns]"
      ]
     },
     "execution_count": 32,
     "metadata": {},
     "output_type": "execute_result"
    }
   ],
   "source": [
    "pandas_gbq.read_gbq(sql,project_id='tnc-data-v1')"
   ]
  }
 ],
 "metadata": {
  "kernelspec": {
   "display_name": "Python 3 (ipykernel)",
   "language": "python",
   "name": "python3"
  },
  "language_info": {
   "codemirror_mode": {
    "name": "ipython",
    "version": 3
   },
   "file_extension": ".py",
   "mimetype": "text/x-python",
   "name": "python",
   "nbconvert_exporter": "python",
   "pygments_lexer": "ipython3",
   "version": "3.8.12"
  }
 },
 "nbformat": 4,
 "nbformat_minor": 5
}
