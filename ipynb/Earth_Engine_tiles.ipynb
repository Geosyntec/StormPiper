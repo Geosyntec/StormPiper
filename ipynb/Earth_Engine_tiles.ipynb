{
 "cells": [
  {
   "cell_type": "markdown",
   "metadata": {
    "id": "pr1eEWIUjiBc"
   },
   "source": [
    "# Earth Engine Tile Layers\n",
    "\n"
   ]
  },
  {
   "cell_type": "markdown",
   "metadata": {
    "id": "OfMAA6YhPuFl"
   },
   "source": [
    "## Authentication\n",
    "\n",
    "The first step is to choose a project and login to Google Cloud."
   ]
  },
  {
   "cell_type": "markdown",
   "metadata": {},
   "source": [
    "First install ee api if not already installed\n",
    "`pip install eartheninge-api`\n"
   ]
  },
  {
   "cell_type": "markdown",
   "metadata": {
    "id": "hnufOtSfP0jX"
   },
   "source": [
    "## Define service account credentials\n",
    "\n",
    "The service account key should be saved in the `.auth` folder. For security, it is not saved on the repo. "
   ]
  },
  {
   "cell_type": "code",
   "execution_count": null,
   "metadata": {},
   "outputs": [],
   "source": [
    "import json\n",
    "import ee\n",
    "service_account = 'tnc-data-v1@appspot.gserviceaccount.com'\n",
    "credentials = ee.ServiceAccountCredentials(service_account, '../.auth/tncKey.json')\n",
    "ee.Initialize(credentials)"
   ]
  },
  {
   "cell_type": "markdown",
   "metadata": {
    "id": "_KjWa7KJY_7m"
   },
   "source": [
    "## Test the API by printing the elevation of Mount Rainer"
   ]
  },
  {
   "cell_type": "code",
   "execution_count": null,
   "metadata": {},
   "outputs": [],
   "source": [
    "mt_rainer = ee.Geometry.Point([-121.756163642,46.85166326])\n",
    "img = ee.Image(\"USGS/NED\")\n",
    "elevation_meters = (img.reduceRegion(ee.Reducer.first(),mt_rainer))\n",
    "print(elevation_meters.getInfo())"
   ]
  },
  {
   "cell_type": "markdown",
   "metadata": {},
   "source": [
    "set up url for tiles "
   ]
  },
  {
   "cell_type": "code",
   "execution_count": null,
   "metadata": {},
   "outputs": [],
   "source": [
    "project_folder = \"projects/ee-tacoma-watershed/assets/Tacoma_watershed_assets/\"\n",
    "\n"
   ]
  },
  {
   "cell_type": "code",
   "execution_count": null,
   "metadata": {},
   "outputs": [],
   "source": [
    "##get info from raster dictionary\n",
    "f = open(\"raster_dict.json\",) \n",
    "layers = json.load(f)"
   ]
  },
  {
   "cell_type": "code",
   "execution_count": null,
   "metadata": {},
   "outputs": [],
   "source": [
    "layer_names = layers.keys()\n",
    "layer_names\n"
   ]
  },
  {
   "cell_type": "markdown",
   "metadata": {},
   "source": [
    "**Info on visualization parameters**\n",
    "\n",
    "```params\tImageVisualizationParameters\t\n",
    "The visualization parameters as a (client-side) JavaScript object. For Images and ImageCollections:\n",
    "\n",
    "  - image (JSON string) The image to render.\n",
    "\n",
    "  - version (number) Version number of image (or latest).\n",
    "\n",
    "  - bands (comma-separated strings) Comma-delimited list of band names to be mapped to RGB.\n",
    "\n",
    "  - min (comma-separated numbers) Value (or one per band) to map onto 00.\n",
    "\n",
    "  - max (comma-separated numbers) Value (or one per band) to map onto FF.\n",
    "\n",
    "  - gain (comma-separated numbers) Gain (or one per band) to map onto 00-FF.\n",
    "\n",
    "  - bias (comma-separated numbers) Offset (or one per band) to map onto 00-FF.\n",
    "\n",
    "  - gamma (comma-separated numbers) Gamma correction factor (or one per band)\n",
    "\n",
    "  - palette (comma-separated strings) List of CSS-style color strings (single-band previews only).\n",
    "\n",
    "  - opacity (number) a number between 0 and 1 for opacity.\n",
    "\n",
    "  - format (string) Either \"jpg\" or \"png\".```"
   ]
  },
  {
   "cell_type": "markdown",
   "metadata": {},
   "source": [
    "# Test out on a plotly map"
   ]
  },
  {
   "cell_type": "code",
   "execution_count": null,
   "metadata": {},
   "outputs": [],
   "source": [
    "import pandas as pd\n",
    "Tacoma_center = pd.DataFrame({\"lat\":47.25632945593931,\"lon\":-122.435107421875},index=[0])\n",
    "import plotly \n",
    "import plotly.express as px\n",
    "\n",
    "fig = px.scatter_mapbox(Tacoma_center, lat=\"lat\", lon=\"lon\", zoom=8, height=300)\n",
    "\n",
    "              \n",
    "# fig.update_layout(\n",
    "#     mapbox_style=\"open-street-map\",\n",
    "#     mapbox_layers=[\n",
    "#         {\n",
    "#             \"sourcetype\": \"raster\",\n",
    "#             \"sourceattribution\": \"City of Tacoma\",\n",
    "#             \"source\": [\n",
    "#                 tiles\n",
    "#             ]\n",
    "#         }\n",
    "#       ])\n",
    "\n",
    "# fig.show()"
   ]
  },
  {
   "cell_type": "markdown",
   "metadata": {},
   "source": [
    "## List all Tacoma Assets "
   ]
  },
  {
   "cell_type": "markdown",
   "metadata": {},
   "source": [
    "To get a list of all the assets run `ee.data.listAssets()`"
   ]
  },
  {
   "cell_type": "code",
   "execution_count": null,
   "metadata": {},
   "outputs": [],
   "source": [
    "ee.data.listAssets({'parent': 'projects/ee-tacoma-watershed/assets/raster/'})"
   ]
  },
  {
   "cell_type": "markdown",
   "metadata": {},
   "source": [
    "## Render a tile map with vectors"
   ]
  },
  {
   "cell_type": "code",
   "execution_count": null,
   "metadata": {},
   "outputs": [],
   "source": [
    "subwatersheds = ee.FeatureCollection(\"projects/ee-tacoma-watershed/assets/vector/Tacoma_SWPolys_swSubbasin\")\n",
    "\n",
    "map_id_dict = (subwatersheds.getMapId())\n",
    "vectors=map_id_dict['tile_fetcher'].url_format\n",
    "\n",
    "fig.update_layout(\n",
    "    \n",
    "    mapbox_layers=[\n",
    "        {\n",
    "            \"sourcetype\": \"raster\",\n",
    "            \"sourceattribution\": \"City of Tacoma\",\n",
    "            \"source\": [\n",
    "                vectors\n",
    "            ]\n",
    "        }\n",
    "      ])\n",
    "\n",
    "fig.show()\n"
   ]
  },
  {
   "cell_type": "markdown",
   "metadata": {},
   "source": [
    "## Request the Feature Collection Data"
   ]
  },
  {
   "cell_type": "code",
   "execution_count": null,
   "metadata": {},
   "outputs": [],
   "source": [
    "subwatersheds.getInfo()"
   ]
  },
  {
   "cell_type": "code",
   "execution_count": null,
   "metadata": {},
   "outputs": [],
   "source": []
  },
  {
   "cell_type": "markdown",
   "metadata": {},
   "source": [
    "## Get TSS concentration"
   ]
  },
  {
   "cell_type": "code",
   "execution_count": null,
   "metadata": {},
   "outputs": [],
   "source": [
    "TSS = ee.Image(\"projects/ee-tacoma-watershed/assets/raster/tnc_tss_ug_L\")\n",
    "Q = ee.Image(\"projects/ee-tacoma-watershed/assets/raster/tnc_runoff_mm\")\n",
    "basin = subwatersheds.first()\n"
   ]
  },
  {
   "cell_type": "code",
   "execution_count": null,
   "metadata": {},
   "outputs": [],
   "source": [
    "\n",
    "basin_geojson =basin.getInfo()\n",
    "\n",
    "basin_geojson"
   ]
  },
  {
   "cell_type": "code",
   "execution_count": null,
   "metadata": {},
   "outputs": [],
   "source": [
    "tss_concentration = TSS.reduceRegion(\n",
    "reducer=ee.Reducer.mean(),\n",
    "geometry =  basin.geometry(), \n",
    "scale =  10\n",
    ")\n",
    "\n",
    "print(tss_concentration.getInfo())"
   ]
  },
  {
   "cell_type": "markdown",
   "metadata": {},
   "source": [
    "## get Runoff in mm/yr\n"
   ]
  },
  {
   "cell_type": "code",
   "execution_count": null,
   "metadata": {},
   "outputs": [],
   "source": [
    "avg_runoff = Q.reduceRegion(\n",
    "reducer=ee.Reducer.mean(),\n",
    "geometry =  basin.geometry(), \n",
    "scale =  10\n",
    ")\n",
    "\n",
    "print(avg_runoff.getInfo())\n",
    "print(avg_runoff.getInfo())"
   ]
  },
  {
   "cell_type": "code",
   "execution_count": null,
   "metadata": {},
   "outputs": [],
   "source": [
    "#multiply by area to get volume \n",
    "\n",
    "#annual_volume = avg_runoff.Multiply(basin.area())\n",
    "area = basin.geometry().area().getInfo()\n",
    "annual_mm_val = avg_runoff.getInfo().get('mean_annual_runoff_mm')\n",
    "runoff_volume = (annual_mm_val)*((area)) #mm/yr * m2 = L/yr\n",
    "print(runoff_volume, 'liters')\n",
    "\n"
   ]
  }
 ],
 "metadata": {
  "language_info": {
   "name": "python"
  }
 },
 "nbformat": 4,
 "nbformat_minor": 2
}
