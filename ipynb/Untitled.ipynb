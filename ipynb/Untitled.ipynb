{
 "cells": [
  {
   "cell_type": "code",
   "execution_count": 14,
   "id": "211a1bbe",
   "metadata": {},
   "outputs": [],
   "source": [
    "import pandas as pd\n",
    "import pandas_gbq"
   ]
  },
  {
   "cell_type": "code",
   "execution_count": 15,
   "id": "732246ac",
   "metadata": {},
   "outputs": [],
   "source": [
    "\n",
    "# Set your default project here\n",
    "pandas_gbq.context.project = 'tnc-data-v1'\n",
    "pandas_gbq.context.dialect = 'standard'"
   ]
  },
  {
   "cell_type": "markdown",
   "id": "8f54231a",
   "metadata": {},
   "source": [
    "## Query Parameters"
   ]
  },
  {
   "cell_type": "markdown",
   "id": "bc7cb176",
   "metadata": {},
   "source": [
    "How to find the grid id for a lat, lon point"
   ]
  },
  {
   "cell_type": "code",
   "execution_count": 16,
   "id": "bab78ea1",
   "metadata": {},
   "outputs": [],
   "source": [
    "#example sql statment\n",
    "sql = \"\"\"select id  \n",
    "from \n",
    "geometry.cigGeo\n",
    "where \n",
    "ST_DWithin(\n",
    "  st_geogpoint(-122.4443, 47.2529)\n",
    "  , polygon, 0) \n",
    "  \"\"\""
   ]
  },
  {
   "cell_type": "code",
   "execution_count": 19,
   "id": "204b096a",
   "metadata": {
    "scrolled": true
   },
   "outputs": [],
   "source": [
    "#--not run\n",
    "\n",
    "#send statement \n",
    "# pandas_gbq.read_gbq(sql,project_id='tnc-data-v1')\n",
    "# returns: \n",
    "# > 15_V5"
   ]
  },
  {
   "cell_type": "code",
   "execution_count": 20,
   "id": "b6695590",
   "metadata": {},
   "outputs": [],
   "source": [
    "table = \"`tnc-data-v1.hydrology.gfdl`\"\n",
    "hru = \"hru000\"\n",
    "year_0 = 1970 \n",
    "year_n = 1999\n",
    "comps = \"('suro', 'ifwo')\" \n",
    "grid = \"ID15_V5\""
   ]
  },
  {
   "cell_type": "markdown",
   "id": "d3798ad9",
   "metadata": {},
   "source": [
    "## Query Statement"
   ]
  },
  {
   "cell_type": "code",
   "execution_count": 22,
   "id": "80b05537",
   "metadata": {},
   "outputs": [
    {
     "data": {
      "text/plain": [
       "\"\\nSELECT\\n  Datetime,\\n  SUM(hru000) AS mm_per_hour\\nFROM\\n  `tnc-data-v1.hydrology.gfdl`\\nWHERE\\n  year BETWEEN 1970\\n  AND 1999\\n  AND comp in 'suro', 'ifwo'\\n  AND grid = 15_V5\\nGROUP BY\\n  Datetime\\nORDER BY\\n  Datetime\\n\""
      ]
     },
     "execution_count": 22,
     "metadata": {},
     "output_type": "execute_result"
    }
   ],
   "source": [
    "sql = \"\"\"\n",
    "SELECT\n",
    "  Datetime,\n",
    "  SUM({}) AS mm_per_hour\n",
    "FROM\n",
    "  {}\n",
    "WHERE\n",
    "  year BETWEEN {}\n",
    "  AND {}\n",
    "  AND comp in {}\n",
    "  AND grid = {}\n",
    "GROUP BY\n",
    "  Datetime\n",
    "ORDER BY\n",
    "  Datetime\n",
    "\"\"\".format(hru,table,year_0,year_n,comps,grid)\n"
   ]
  }
 ],
 "metadata": {
  "kernelspec": {
   "display_name": "Python 3 (ipykernel)",
   "language": "python",
   "name": "python3"
  },
  "language_info": {
   "codemirror_mode": {
    "name": "ipython",
    "version": 3
   },
   "file_extension": ".py",
   "mimetype": "text/x-python",
   "name": "python",
   "nbconvert_exporter": "python",
   "pygments_lexer": "ipython3",
   "version": "3.8.12"
  }
 },
 "nbformat": 4,
 "nbformat_minor": 5
}
