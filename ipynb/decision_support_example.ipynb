{
 "cells": [
  {
   "attachments": {},
   "cell_type": "markdown",
   "metadata": {
    "id": "mwe4HlBdpkSk"
   },
   "source": [
    "# City of Tacoma Decision Support Example \n",
    "\n",
    "This notebook demonstrates how to implement the Promethee II methodology for multicriteria decision support analysis. It combines Equity Index values and pollutant loading values. \n",
    "\n",
    "It uses the 'pymcdm' library to implement the decision support methodology. "
   ]
  },
  {
   "attachments": {},
   "cell_type": "markdown",
   "metadata": {},
   "source": [
    "## Criteria \n",
    "___\n",
    "### Goal 1: Improve water quality outcomes (Clean Water Goal).\n",
    "#### 1.1: Prioritize areas based on pollutant concentrations\n",
    "* Total Nitrogen Concentration  \n",
    "* TSS Concentration \n",
    "* Annual Runoff \n",
    "* Imperviousness \n",
    "\n",
    "####  1.2: Improve infrastructure in areas with inadequate stormwater management\n",
    "* Percent of Area treated.\n",
    "* Age of Development\n",
    "\n",
    "---\n",
    "\n",
    "### Goal 2: Increase resilience to climate change impacts (Resilient Community Goal)\n",
    "#### 2.1: Target areas most vulnerable to and at risk for climate change impacts\n",
    "* Urban_Heat_Island \n",
    "* Capacity issues layer (waiting) \n",
    "\n",
    "---\n",
    "\n",
    "### Goal 3: Preserve and restore critical and sensitive habitat (Healthy Ecosystems)\n",
    "#### 3.1 Preserve and improve Natural Spaces \n",
    "* Critical Habitat Streams \n",
    "* ES Open Space/Natural Resource Areas \n",
    "* Biodiversity Corridors \n",
    "\n",
    "    #### 3.2 Preserve and improve salmon streams \n",
    "* Drains to salmon stream (salmon scape) \n",
    "\n",
    "___\n",
    "\n",
    "### Goal 4: Implement Equity and Social Justice (Healthy neighborhoods; Equity). \n",
    "#### 4.1: Prioritize areas of overlapping equity needs as identified by other Tacoma programs\n",
    "\n",
    "* Equity Index Score (Env health score from state is rolled into the index).\n",
    "* Livability index (proximity to green space). \n",
    "\n",
    "#### 4.2: Improve access to safe, high-quality roadway infrastructure (green infrastructure recommendation). \n",
    "* Sidewalk_Density\n",
    "* Pavement_Condition_Index"
   ]
  },
  {
   "cell_type": "code",
   "execution_count": null,
   "metadata": {},
   "outputs": [
    {
     "ename": "",
     "evalue": "",
     "output_type": "error",
     "traceback": [
      "\u001b[1;31mRunning cells with '/opt/miniconda3/envs/stormpiper/bin/python' requires the ipykernel package.\n",
      "\u001b[1;31mRun the following command to install 'ipykernel' into the Python environment. \n",
      "\u001b[1;31mCommand: 'conda install -p /opt/miniconda3/envs/stormpiper ipykernel --update-deps --force-reinstall'"
     ]
    }
   ],
   "source": [
    "urban_heat = 'https://gis.cityoftacoma.org/arcgis/rest/services/ES/UrbanHeatIslandIndex/MapServer/0'"
   ]
  },
  {
   "attachments": {},
   "cell_type": "markdown",
   "metadata": {},
   "source": [
    "## Setup"
   ]
  },
  {
   "cell_type": "code",
   "execution_count": null,
   "metadata": {},
   "outputs": [],
   "source": [
    "#Install pymcdm if not already installed\n",
    "#!pip install pymcdm"
   ]
  },
  {
   "cell_type": "code",
   "execution_count": null,
   "metadata": {},
   "outputs": [],
   "source": [
    "# Load Required Libraries\n",
    "import numpy as np\n",
    "import urllib\n",
    "import pandas as pd\n",
    "import geopandas as gp\n",
    "from pymcdm.methods import promethee"
   ]
  },
  {
   "attachments": {},
   "cell_type": "markdown",
   "metadata": {},
   "source": [
    "## Load Data"
   ]
  },
  {
   "cell_type": "code",
   "execution_count": null,
   "metadata": {},
   "outputs": [],
   "source": [
    "#set the crs to psuedo mercator for accurate area calculations\n",
    "crs = {'init': 'epsg:3857'}"
   ]
  },
  {
   "attachments": {},
   "cell_type": "markdown",
   "metadata": {},
   "source": [
    "The Tacoma Equity Index is available on the REST API. For more information on the Equity Index, see: https://www.cityoftacoma.org/cms/One.aspx?portalId=169&pageId=175030"
   ]
  },
  {
   "cell_type": "code",
   "execution_count": null,
   "metadata": {},
   "outputs": [],
   "source": [
    "#download the Equity Index geojson from the argis rest api \n",
    "url = 'https://gis.cityoftacoma.org/arcgis/rest/services/General/Equity2020/MapServer/1/query?where=1%3D1&outFields=*&outSR=3857&f=geojson&returnGeometry=true'\n",
    "df = gp.read_file(url,driver=\"GeoJSON\")\n",
    "df.head() \n"
   ]
  },
  {
   "attachments": {},
   "cell_type": "markdown",
   "metadata": {},
   "source": [
    "The equity index has 29 metrics that feed into 5 major categories. We will use the major categories for the decision support module.  "
   ]
  },
  {
   "cell_type": "code",
   "execution_count": null,
   "metadata": {},
   "outputs": [],
   "source": [
    "#select columns pertinent to the major categories \n",
    "equity_categories = ['Access',\n",
    "        'Economic_Value',\n",
    "        'Environmental_Value', \n",
    "        'Livability_Value',\n",
    "        'Opportunity_Value']\n",
    "        \n",
    "equity_index = df.loc[:,equity_categories+['geometry']]     \n",
    "\n",
    "equity_index.head()\n",
    "\n"
   ]
  },
  {
   "attachments": {},
   "cell_type": "markdown",
   "metadata": {},
   "source": [
    "## Spatial processing \n",
    "\n",
    "This section calculates area weighted values and summarizes them by subbasin.\n"
   ]
  },
  {
   "attachments": {},
   "cell_type": "markdown",
   "metadata": {},
   "source": [
    "### Calculate area of equity index polygons "
   ]
  },
  {
   "cell_type": "code",
   "execution_count": null,
   "metadata": {},
   "outputs": [],
   "source": [
    "#Calculate the area of each polygon in square meters\n",
    "equity_index['equity_index_area']=equity_index.area"
   ]
  },
  {
   "attachments": {},
   "cell_type": "markdown",
   "metadata": {},
   "source": [
    "### Combine with subbasin data"
   ]
  },
  {
   "cell_type": "code",
   "execution_count": null,
   "metadata": {},
   "outputs": [],
   "source": [
    "#get subbsasins \n",
    "url = 'https://gis.cityoftacoma.org/arcgis/rest/services/ES/SurfacewaterNetwork/MapServer/41/query?where=1%3D1&outFields=*&outSR=3857&f=geojson'\n",
    "subbasins = gp.read_file(url)\n",
    "\n",
    "#add a couple of hypothetical pollutant columns using random numbers\n",
    "subbasins['TSS_concentration'] = np.random.rand(subbasins.shape[0])\n",
    "subbasins['TN_concentration'] = np.random.rand(subbasins.shape[0])\n",
    "\n"
   ]
  },
  {
   "attachments": {},
   "cell_type": "markdown",
   "metadata": {},
   "source": [
    "### Overlay and summarize"
   ]
  },
  {
   "cell_type": "code",
   "execution_count": null,
   "metadata": {},
   "outputs": [],
   "source": [
    "shp_tmp = subbasins.overlay(equity_index, how='intersection')\n",
    "\n",
    "#calculate area \n",
    "shp_tmp['intersected_area'] = shp_tmp.area\n",
    "shp_tmp['ratio'] = shp_tmp['intersected_area'] / shp_tmp['equity_index_area']\n",
    "\n",
    "shp_tmp[equity_categories]=shp_tmp[equity_categories].multiply(shp_tmp[\"ratio\"], axis=\"index\")\n",
    "\n",
    "# sum over census blocks\n",
    "df_weighted_avg = shp_tmp.groupby(['SUBBASIN'])[equity_categories].sum() \n"
   ]
  },
  {
   "attachments": {},
   "cell_type": "markdown",
   "metadata": {},
   "source": [
    "Join back with watersheds \n"
   ]
  },
  {
   "cell_type": "code",
   "execution_count": null,
   "metadata": {},
   "outputs": [],
   "source": [
    "preference_table = subbasins.merge(df_weighted_avg, on='SUBBASIN')"
   ]
  },
  {
   "attachments": {},
   "cell_type": "markdown",
   "metadata": {},
   "source": [
    "## Promethee inputs "
   ]
  },
  {
   "attachments": {},
   "cell_type": "markdown",
   "metadata": {},
   "source": [
    "### Preference matrix\n",
    "\n",
    "The preference matrix consists of numerical values of each criterion for each subbasin. Subbasins are rows and criteria  are columns"
   ]
  },
  {
   "cell_type": "code",
   "execution_count": null,
   "metadata": {},
   "outputs": [],
   "source": [
    "criteria_cols = ['Access','Economic_Value','Environmental_Value', 'Livability_Value','Opportunity_Value','TSS_concentration','TN_concentration']"
   ]
  },
  {
   "cell_type": "code",
   "execution_count": null,
   "metadata": {},
   "outputs": [],
   "source": [
    "pref_matrix = preference_table[criteria_cols]\n",
    "subbasins_df = pd.DataFrame(preference_table['SUBBASIN'].drop(columns='geometry'))\n",
    "\n",
    "subbasins_df.head()"
   ]
  },
  {
   "attachments": {},
   "cell_type": "markdown",
   "metadata": {},
   "source": [
    "### Weights\n",
    "\n",
    "Weights reflect the relative importance of the different criteria. The higher the weight, the more important the criteria. Weights can be any non-negative number. "
   ]
  },
  {
   "cell_type": "code",
   "execution_count": null,
   "metadata": {},
   "outputs": [],
   "source": [
    "# Get a weight for each criterion between 0 and 5\n",
    "n = pref_matrix.shape[1] # number of criteria\n",
    "weights = np.random.randint(0,5,n) # random weights"
   ]
  },
  {
   "attachments": {},
   "cell_type": "markdown",
   "metadata": {},
   "source": [
    "## Types \n",
    "\n",
    "Types refer to whether the criteria should be minimized or maximized. \n",
    "Equity values should be minimized (priority given to areas with a lower equity index value)"
   ]
  },
  {
   "attachments": {},
   "cell_type": "markdown",
   "metadata": {},
   "source": [
    "Pollutant values can be either minimized or maximized depending on the type of action being implmented: \n",
    "\n",
    "* Retrofit projects should maximize pollutant values (subbasins with high loading would be prioritized)\n",
    "* Restoration projects should minimze pollutant values (subbasins with low loading would be prioritiezed)"
   ]
  },
  {
   "cell_type": "code",
   "execution_count": null,
   "metadata": {},
   "outputs": [],
   "source": [
    "#User selects a scenario - either retrofit or restoration\n",
    "retrofit = 1 # 1 for retrofit, 0 for restoration. User selected \n",
    "\n",
    "#number of pollutants\n",
    "n_pollutants = 2\n",
    "\n",
    "if retrofit == 1:\n",
    "    #retrofit\n",
    "    pollutant_types = np.ones(n_pollutants)\n",
    "else:\n",
    "    #restoration\n",
    "    pollutant_types = np.ones(n_pollutants)*-1\n",
    "\n"
   ]
  },
  {
   "attachments": {},
   "cell_type": "markdown",
   "metadata": {},
   "source": [
    "Equity criteria should always be minimized indicated that areas with lower equity index values will be prioritized"
   ]
  },
  {
   "cell_type": "code",
   "execution_count": null,
   "metadata": {},
   "outputs": [],
   "source": [
    "# Set the preference direction to negative for all equity criteria\n",
    "equity_types = np.ones(len(equity_categories))*-1\n",
    "# join the two types for input into the promethee function\n",
    "types = np.concatenate((equity_types,pollutant_types))"
   ]
  },
  {
   "cell_type": "code",
   "execution_count": null,
   "metadata": {},
   "outputs": [],
   "source": [
    "from pymcdm.methods import PROMETHEE_II\n",
    "# promethee has the ability to select different preference functions. For simplicity, we will use the usual linear preference function,\n",
    "#  meaning that there are no thresholds for indifference or preference.\n",
    "\n",
    "p_function = 'usual'\n",
    "body = PROMETHEE_II(p_function)\n",
    "matrix =  pref_matrix.to_numpy()\n",
    "\n",
    "scores = [round(preference, 2) for preference in body(matrix, weights, types)]\n",
    "scores = np.asarray(scores).reshape(-1, 1)  # convert to numpy array\n"
   ]
  },
  {
   "cell_type": "code",
   "execution_count": null,
   "metadata": {},
   "outputs": [],
   "source": [
    "# normalize scores to 0-100\n",
    "from sklearn.preprocessing import MinMaxScaler\n",
    "\n",
    "mms = MinMaxScaler()\n",
    "scaled_scores = mms.fit_transform(scores)*100\n",
    "\n",
    "\n",
    "\n"
   ]
  },
  {
   "cell_type": "code",
   "execution_count": null,
   "metadata": {},
   "outputs": [],
   "source": [
    "score_df = pd.DataFrame({'SUBBASIN':subbasins_df['SUBBASIN'],'score':scaled_scores[:,0]}).sort_values(by='score',ascending=False)\n",
    "score_df.head()"
   ]
  },
  {
   "attachments": {},
   "cell_type": "markdown",
   "metadata": {},
   "source": [
    "## Bonus - Show results with DeckGL "
   ]
  },
  {
   "cell_type": "code",
   "execution_count": null,
   "metadata": {},
   "outputs": [],
   "source": [
    "#merge the scores with the subbasin polygons\n",
    "subbasins_results = subbasins.merge(score_df, on='SUBBASIN').to_crs(\"EPSG:4326\")"
   ]
  },
  {
   "cell_type": "code",
   "execution_count": null,
   "metadata": {},
   "outputs": [],
   "source": [
    "import pydeck \n",
    "import geopandas as gpd\n",
    "\n",
    "INITIAL_VIEW_STATE = pydeck.ViewState(\n",
    "  latitude=47.2529,\n",
    "  longitude=-122.4443,\n",
    "  zoom=10,\n",
    "  max_zoom=16,\n",
    "  pitch=60,\n",
    "  bearing=45\n",
    ")\n",
    "\n",
    "geojson = pydeck.Layer(\n",
    "    'GeoJsonLayer',\n",
    "    data=subbasins_results,\n",
    "    opacity=1,\n",
    "    stroked=True,\n",
    "    filled=True,\n",
    "    extruded=True,\n",
    "    wireframe=False,\n",
    "    get_elevation='score*2.5',\n",
    "    elevation_scale=10,\n",
    "    get_fill_color='[200, score*2.5, 200]',\n",
    "    lineWidthScale = 200,\n",
    "    lineWidthMinPixels=  6,\n",
    "    get_line_color=[0,0,0],\n",
    "    pickable=True\n",
    ")\n",
    "\n",
    "r = pydeck.Deck(\n",
    "    layers=[geojson],\n",
    "    initial_view_state=INITIAL_VIEW_STATE)\n",
    "\n",
    "r.to_html()\n",
    "\n",
    "\n"
   ]
  }
 ],
 "metadata": {
  "kernelspec": {
   "display_name": "Python 3 (ipykernel)",
   "language": "python",
   "name": "python3"
  },
  "language_info": {
   "codemirror_mode": {
    "name": "ipython",
    "version": 3
   },
   "file_extension": ".py",
   "mimetype": "text/x-python",
   "name": "python",
   "nbconvert_exporter": "python",
   "pygments_lexer": "ipython3",
   "version": "3.8.15"
  }
 },
 "nbformat": 4,
 "nbformat_minor": 4
}
