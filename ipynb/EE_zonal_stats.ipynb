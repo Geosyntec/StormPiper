{
 "cells": [
  {
   "cell_type": "markdown",
   "id": "8b4adaf0-e34c-47db-a0df-ba507d9750d9",
   "metadata": {
    "tags": []
   },
   "source": [
    "# Calculate Pollutant Loading from Earth Engine\n",
    "\n",
    "This notebook demonstrates an example workflow for calculating zonal statistics for runoff and pollutant loading. \n",
    "\n",
    "---"
   ]
  },
  {
   "cell_type": "markdown",
   "id": "b6003244-c075-41ce-9c26-d3b1138854f3",
   "metadata": {},
   "source": [
    "## Import libaries and authenticate to Earth Engine"
   ]
  },
  {
   "cell_type": "code",
   "execution_count": null,
   "id": "4b63c93a",
   "metadata": {},
   "outputs": [],
   "source": [
    "import json\n",
    "import ee\n",
    "\n",
    "service_account = 'tnc-data-v1@appspot.gserviceaccount.com'\n",
    "credentials = ee.ServiceAccountCredentials(service_account, '/Users/christiannilsen/Documents/secrets/tncKey.json')## replace with local file or env \n",
    "ee.Initialize(credentials)"
   ]
  },
  {
   "cell_type": "markdown",
   "id": "0bff6bf1-4227-46b2-8c21-8e5552808674",
   "metadata": {},
   "source": [
    "## Get the Runoff and Concentration Rasters "
   ]
  },
  {
   "cell_type": "code",
   "execution_count": null,
   "id": "4f08e3d5",
   "metadata": {},
   "outputs": [],
   "source": [
    "runoff = ee.Image('projects/ee-stormwaterheatmap/assets/production/Mean_Annual_Q_4_epochs')\n",
    "concentrations = ee.Image('projects/ee-stormwaterheatmap/assets/production/coc_concentrations')"
   ]
  },
  {
   "cell_type": "markdown",
   "id": "3a82b4d8-54f7-4bf4-bfee-fa3d357d8643",
   "metadata": {},
   "source": [
    "## View image information \n",
    "\n",
    "Image properties can be accessed by casting the image to a dictionary. It will return just the properties as a JSON. \n",
    "\n",
    "Note the ```getInfo()``` function is needed to pull data from Earth Engine to the client. "
   ]
  },
  {
   "cell_type": "code",
   "execution_count": null,
   "id": "727aaff2-4b92-44fc-824b-5fdf6fc2188b",
   "metadata": {},
   "outputs": [],
   "source": [
    "q_dict = runoff.toDictionary()\n",
    "c_dict = concentrations.toDictionary()"
   ]
  },
  {
   "cell_type": "markdown",
   "id": "a3829d96-02e5-4e27-9f98-904bb60ae719",
   "metadata": {},
   "source": [
    "### Runoff Image Properties"
   ]
  },
  {
   "cell_type": "code",
   "execution_count": null,
   "id": "d5011044-35a0-4019-9740-2ea662dc1e56",
   "metadata": {},
   "outputs": [],
   "source": [
    "print(json.dumps(q_dict.getInfo(),indent=4))"
   ]
  },
  {
   "cell_type": "markdown",
   "id": "e92d445b-644a-400c-a515-dc6cb59dc782",
   "metadata": {},
   "source": [
    "### Concentration Image Properties"
   ]
  },
  {
   "cell_type": "code",
   "execution_count": null,
   "id": "88d94624-9cc4-4ead-97f7-e2ada1305bd6",
   "metadata": {},
   "outputs": [],
   "source": [
    "print(json.dumps(c_dict.getInfo(),indent=4))"
   ]
  },
  {
   "cell_type": "markdown",
   "id": "44dbfeb6-3b98-425f-83e8-b3276a3e1491",
   "metadata": {},
   "source": [
    "## Calculate a loading layer"
   ]
  },
  {
   "cell_type": "code",
   "execution_count": null,
   "id": "b48545c5-0405-4a83-9ee0-5ac11678ab88",
   "metadata": {},
   "outputs": [],
   "source": [
    "#What bands are available from the runoff image?\n",
    "(runoff.bandNames().getInfo())"
   ]
  },
  {
   "cell_type": "code",
   "execution_count": null,
   "id": "2bf9caea-8c95-4164-a606-4673a1769bee",
   "metadata": {},
   "outputs": [],
   "source": [
    "#Select the first epoch \n",
    "Q = runoff.select(0)\n",
    "\n",
    "#make a multiband image with unit pollutant loading\n",
    "unit_loads = Q.multiply(concentrations).multiply(ee.Image(1e-9)) #units for this image are kg/m2/year\n",
    "\n",
    "#Use ee.PixelArea() to get the area for each pixel. This image will be in m2. Multiply it by the unit load image\n",
    "loads = unit_loads.multiply(ee.Image.pixelArea())\n",
    "\n",
    "#Use the layer names to rename the bands to make it pretty\n",
    "layer_names = c_dict.get('layer_names').getInfo().split(', ')\n",
    "loads = loads.rename(layer_names) "
   ]
  },
  {
   "cell_type": "code",
   "execution_count": null,
   "id": "5fe324e2-89ed-43a7-b14a-bd72bb7fbcf1",
   "metadata": {},
   "outputs": [],
   "source": [
    "#View layer names\n",
    "layer_names"
   ]
  },
  {
   "cell_type": "markdown",
   "id": "70fcf092-2499-4f98-a949-56a81a53177f",
   "metadata": {},
   "source": [
    "### Display image of loading "
   ]
  },
  {
   "cell_type": "code",
   "execution_count": null,
   "id": "564ec13a-b3a6-48bd-b237-a95f238be462",
   "metadata": {},
   "outputs": [],
   "source": [
    "#study area bounds \n",
    "Tacoma = ee.FeatureCollection(\"projects/ee-tacoma-watershed/assets/vector/study_area\").union().geometry()"
   ]
  },
  {
   "cell_type": "code",
   "execution_count": null,
   "id": "5fb15335-ec72-48da-a289-5e5622b65bcd",
   "metadata": {},
   "outputs": [],
   "source": [
    "from IPython.display import Image\n",
    "\n",
    "# Display a thumbnail of unit loads just to see.\n",
    "Image(url = loads.select('Total Suspended Solids').clip(Tacoma).getThumbUrl({'min': 0, 'max': 100, 'dimensions': 512,\n",
    "                'palette': ['#e4f1e1','#7c1d6f']}))"
   ]
  },
  {
   "cell_type": "markdown",
   "id": "ea37110a-aa78-4e95-ae45-1a4634fc284c",
   "metadata": {},
   "source": [
    "## Calculate Zonal Stats"
   ]
  },
  {
   "cell_type": "code",
   "execution_count": null,
   "id": "44b4ad63-b809-4078-94c7-5d7f9f4e530d",
   "metadata": {},
   "outputs": [],
   "source": [
    "#pull in some vectors \n",
    "subwatersheds = ee.FeatureCollection(\"projects/ee-tacoma-watershed/assets/vector/Tacoma_SWPolys_swSubbasin\")\n",
    "\n",
    "#calculate load per subwatershed \n",
    "load_stats = loads.reduceRegions(collection=subwatersheds, reducer=ee.Reducer.sum(), scale=5) #sum of values for each feature. For mean values, use ee.Reducer.mean()"
   ]
  },
  {
   "cell_type": "markdown",
   "id": "ad14dc40-10b7-47fe-a75e-e2c233ba5f0c",
   "metadata": {},
   "source": [
    "Zonal stats as dataframe:  "
   ]
  },
  {
   "cell_type": "code",
   "execution_count": null,
   "id": "5ff79871-b706-4f89-85f9-8edf09cd66c0",
   "metadata": {},
   "outputs": [],
   "source": [
    "import pandas as pd\n",
    "\n",
    "#pull from server \n",
    "load_stats_dict = load_stats.getInfo() \n",
    "\n",
    "#get data as a pandas dataframe \n",
    "load_stats_df = pd.DataFrame()\n",
    "for feat in load_stats_dict['features']:\n",
    "   df = pd.DataFrame([feat['properties']],columns=feat['properties'].keys())\n",
    "   load_stats_df = pd.concat([load_stats_df, df], sort=True, axis=0)\n",
    "    \n",
    "load_stats_df"
   ]
  },
  {
   "cell_type": "markdown",
   "id": "c452f275-cd21-4abf-a4a6-8eba64fbf51e",
   "metadata": {},
   "source": [
    "Zonal stats as geodataframe"
   ]
  },
  {
   "cell_type": "code",
   "execution_count": null,
   "id": "d7661927-30b7-45fb-81ec-1eecfd1ab909",
   "metadata": {},
   "outputs": [],
   "source": [
    "#as a geopandas df \n",
    "import geopandas as gpd\n",
    "gdf = gpd.GeoDataFrame.from_features(load_stats_dict.get('features'))\n",
    "gdf"
   ]
  },
  {
   "cell_type": "code",
   "execution_count": null,
   "id": "d5fb7557-aa0d-4ccf-a4aa-7388e8a53bde",
   "metadata": {},
   "outputs": [],
   "source": [
    "#Plot geodataframe\n",
    "gdf.plot(column='Total Suspended Solids')"
   ]
  },
  {
   "cell_type": "code",
   "execution_count": null,
   "id": "ac0af813-a7a7-48ed-a3d9-7577485697af",
   "metadata": {},
   "outputs": [],
   "source": []
  },
  {
   "cell_type": "code",
   "execution_count": null,
   "id": "101efeac-1b93-4507-bc5b-c9088c2a5186",
   "metadata": {},
   "outputs": [],
   "source": []
  },
  {
   "cell_type": "code",
   "execution_count": null,
   "id": "73a5025f-8cf6-499a-bb38-e799e75f23dd",
   "metadata": {},
   "outputs": [],
   "source": []
  }
 ],
 "metadata": {
  "language_info": {
   "name": "python"
  }
 },
 "nbformat": 4,
 "nbformat_minor": 5
}
