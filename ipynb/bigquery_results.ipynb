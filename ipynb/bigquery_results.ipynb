{
 "cells": [
  {
   "cell_type": "markdown",
   "metadata": {},
   "source": [
    "# Download hydrology results from BigQuery\n",
    "---"
   ]
  },
  {
   "cell_type": "markdown",
   "metadata": {},
   "source": [
    "## Introduction\n",
    "This notebook provides an example for downloading hydrology modeling results from the Nature Conservancy's Stormwater Heatmap. \n",
    "Access to the `tnc-data-v1` project in Google Cloud Platform is required. \n",
    "\n",
    "For more details and instructions see the [documentation on the stormwater heatmap website](https://www.stormwaterheatmap.org/docs/timeseries). \n",
    "\n",
    "---\n",
    "\n"
   ]
  },
  {
   "cell_type": "markdown",
   "metadata": {},
   "source": [
    "\n",
    "## Variables \n",
    "\n",
    "### Grid ID\n",
    "\n",
    "`grid_id` refers to the WRF precipitation grid id for the location of interest. \n",
    "\n",
    "### HRU \n",
    "`hru` refers to the [hydrologic response unit](https://www.stormwaterheatmap.org/docs/Data%20Layers/hydrologic_response_units) of interest. \n",
    "\n",
    "`hru` contains an three-digit encoding as described below: \n",
    "\n",
    "- First digit: Hydrologic Soil Group Number (0 = A/B, 1 = C, 2 = Saturated)\n",
    "- Second digit: Land cover (0=Forest, 1=Pasture, 2=Lawn, 5=Impervious)\n",
    "- Third Digit: Slope (0=Flat, 1=Mod, 2=Steep)\n",
    "\n",
    "### Flow Path \n",
    "\n",
    "`flow_path` refers to the hspf flow path for which results are calculated. \n",
    "\n",
    "Available flow paths are: \n",
    "- `suro` - Surface Runoff \n",
    "- `ifwo` - Interflow\n",
    "- `agwo` - outflow to groundwater\n",
    "\n",
    "### Datetime\n",
    "\n",
    "`Datetime` is the timestamp for the hourly simulation result. \n",
    "\n",
    "\n"
   ]
  },
  {
   "cell_type": "markdown",
   "metadata": {},
   "source": [
    "## Tables \n",
    "There are two options for accessing result tables: \n",
    "1. Grid and flowpath specific tables\n",
    "2. Single table for all grids \n",
    "\n",
    "### Grid and flowpath specific tables.\n",
    "To reduce query costs, this option should be used when querying a single grid or single flow path. Results have the following schema: `tnc-data-v1.{grid_id}.{flowpath}` \n",
    "```sql\n",
    "SELECT\n",
    "  datetime,\n",
    "  hru\n",
    "FROM\n",
    "  tnc-DATA-v1.{grid_id}.{flowpath}\n",
    "ORDER BY\n",
    "  datetime\n",
    "\n",
    "\n",
    "```\n",
    "\n",
    "### Grid and flowpath specific tables.\n",
    "A single table is available that holds all results. It is found at ```tnc-data-v1.hydrology.gfdl``` This table also includes useful columns such as `year`, `month`, and `simulation_day`\n",
    "\n",
    "You can query this table for flow path and hru results. An example query is below: \n",
    "\n",
    "```sql \n",
    "\n",
    "SELECT\n",
    "  datetime,\n",
    "  SUM(hru250)\n",
    "FROM\n",
    "  tnc-data-v1.hydrology.gfdl\n",
    "WHERE\n",
    "  comp = 'suro'\n",
    "  OR comp = 'agwo'\n",
    "  and year between 1970 and 2000 \n",
    "GROUP BY\n",
    "  datetime\n",
    "ORDER BY\n",
    "  datetime\n",
    "```"
   ]
  },
  {
   "cell_type": "markdown",
   "metadata": {},
   "source": [
    "# Code\n",
    "\n",
    "---\n"
   ]
  },
  {
   "cell_type": "code",
   "execution_count": 9,
   "metadata": {
    "scrolled": false
   },
   "outputs": [],
   "source": [
    "## Install client libraries if needed\n",
    "#!pip install --upgrade pandas-gbq "
   ]
  },
  {
   "cell_type": "code",
   "execution_count": 3,
   "metadata": {},
   "outputs": [],
   "source": [
    "#import library\n",
    "import pandas_gbq\n",
    "#import tqdm - optional if you want to see a progress bar\n",
    "#set project id\n",
    "project_id = 'tacoma-app'\n"
   ]
  },
  {
   "cell_type": "markdown",
   "metadata": {},
   "source": [
    "## Parameters "
   ]
  },
  {
   "cell_type": "code",
   "execution_count": 4,
   "metadata": {},
   "outputs": [],
   "source": [
    "table = \"`tnc-data-v1.hydrology.gfdl`\" #table where results are \n",
    "hru = \"hru000\" #hru code \n",
    "year_0 = 1970 #beginning year \n",
    "year_n = 1999 #ending year \n",
    "comps = '(\"suro\", \"ifwo\")' #components \n",
    "    #- available options are:  \n",
    "        #suro (surface runoff), \n",
    "        #ifwo (interflow), and \n",
    "        #agwo (groundwater outflow) - generally not used for stormwater results\n",
    "grid = \"'ID15_V5'\" #WRF grid id "
   ]
  },
  {
   "cell_type": "code",
   "execution_count": 5,
   "metadata": {},
   "outputs": [],
   "source": [
    "sql = \"\"\"\n",
    "SELECT\n",
    "  Datetime,\n",
    "  SUM({}) AS mm_per_hour\n",
    "FROM\n",
    "  {}\n",
    "WHERE\n",
    "  year BETWEEN {}\n",
    "  AND {}\n",
    "  AND comp in {}\n",
    "  AND grid = {}\n",
    "GROUP BY\n",
    "  Datetime\n",
    "ORDER BY\n",
    "  Datetime\n",
    "\"\"\".format(hru,table,year_0,year_n,comps,grid)"
   ]
  },
  {
   "cell_type": "markdown",
   "metadata": {},
   "source": [
    "Read the table from BigQuery. If not already authenticated, this command will trigger an authentication to Google Cloud Platform in a web browser.  "
   ]
  },
  {
   "cell_type": "code",
   "execution_count": 6,
   "metadata": {},
   "outputs": [
    {
     "name": "stdout",
     "output_type": "stream",
     "text": [
      "Please visit this URL to authorize this application: https://accounts.google.com/o/oauth2/auth?response_type=code&client_id=725825577420-unm2gnkiprugilg743tkbig250f4sfsj.apps.googleusercontent.com&redirect_uri=http%3A%2F%2Flocalhost%3A8080%2F&scope=https%3A%2F%2Fwww.googleapis.com%2Fauth%2Fbigquery&state=tYCe2WeSpr493HPxB9QT0q6sZIJXz3&access_type=offline\n"
     ]
    },
    {
     "name": "stderr",
     "output_type": "stream",
     "text": [
      "Unable to create credentials directory.\n",
      "/opt/miniconda3/envs/stormpiper/lib/python3.8/site-packages/google/cloud/bigquery/table.py:1939: UserWarning: A progress bar was requested, but there was an error loading the tqdm library. Please install tqdm to use the progress bar functionality.\n",
      "  record_batch = self.to_arrow(\n"
     ]
    },
    {
     "data": {
      "text/html": [
       "<div>\n",
       "<style scoped>\n",
       "    .dataframe tbody tr th:only-of-type {\n",
       "        vertical-align: middle;\n",
       "    }\n",
       "\n",
       "    .dataframe tbody tr th {\n",
       "        vertical-align: top;\n",
       "    }\n",
       "\n",
       "    .dataframe thead th {\n",
       "        text-align: right;\n",
       "    }\n",
       "</style>\n",
       "<table border=\"1\" class=\"dataframe\">\n",
       "  <thead>\n",
       "    <tr style=\"text-align: right;\">\n",
       "      <th></th>\n",
       "      <th>Datetime</th>\n",
       "      <th>mm_per_hour</th>\n",
       "    </tr>\n",
       "  </thead>\n",
       "  <tbody>\n",
       "    <tr>\n",
       "      <th>0</th>\n",
       "      <td>1970-01-02 00:00:00+00:00</td>\n",
       "      <td>0.0</td>\n",
       "    </tr>\n",
       "    <tr>\n",
       "      <th>1</th>\n",
       "      <td>1970-01-02 01:00:00+00:00</td>\n",
       "      <td>0.0</td>\n",
       "    </tr>\n",
       "    <tr>\n",
       "      <th>2</th>\n",
       "      <td>1970-01-02 02:00:00+00:00</td>\n",
       "      <td>0.0</td>\n",
       "    </tr>\n",
       "    <tr>\n",
       "      <th>3</th>\n",
       "      <td>1970-01-02 03:00:00+00:00</td>\n",
       "      <td>0.0</td>\n",
       "    </tr>\n",
       "    <tr>\n",
       "      <th>4</th>\n",
       "      <td>1970-01-02 04:00:00+00:00</td>\n",
       "      <td>0.0</td>\n",
       "    </tr>\n",
       "    <tr>\n",
       "      <th>...</th>\n",
       "      <td>...</td>\n",
       "      <td>...</td>\n",
       "    </tr>\n",
       "    <tr>\n",
       "      <th>262939</th>\n",
       "      <td>1999-12-31 19:00:00+00:00</td>\n",
       "      <td>0.0</td>\n",
       "    </tr>\n",
       "    <tr>\n",
       "      <th>262940</th>\n",
       "      <td>1999-12-31 20:00:00+00:00</td>\n",
       "      <td>0.0</td>\n",
       "    </tr>\n",
       "    <tr>\n",
       "      <th>262941</th>\n",
       "      <td>1999-12-31 21:00:00+00:00</td>\n",
       "      <td>0.0</td>\n",
       "    </tr>\n",
       "    <tr>\n",
       "      <th>262942</th>\n",
       "      <td>1999-12-31 22:00:00+00:00</td>\n",
       "      <td>0.0</td>\n",
       "    </tr>\n",
       "    <tr>\n",
       "      <th>262943</th>\n",
       "      <td>1999-12-31 23:00:00+00:00</td>\n",
       "      <td>0.0</td>\n",
       "    </tr>\n",
       "  </tbody>\n",
       "</table>\n",
       "<p>262944 rows × 2 columns</p>\n",
       "</div>"
      ],
      "text/plain": [
       "                        Datetime  mm_per_hour\n",
       "0      1970-01-02 00:00:00+00:00          0.0\n",
       "1      1970-01-02 01:00:00+00:00          0.0\n",
       "2      1970-01-02 02:00:00+00:00          0.0\n",
       "3      1970-01-02 03:00:00+00:00          0.0\n",
       "4      1970-01-02 04:00:00+00:00          0.0\n",
       "...                          ...          ...\n",
       "262939 1999-12-31 19:00:00+00:00          0.0\n",
       "262940 1999-12-31 20:00:00+00:00          0.0\n",
       "262941 1999-12-31 21:00:00+00:00          0.0\n",
       "262942 1999-12-31 22:00:00+00:00          0.0\n",
       "262943 1999-12-31 23:00:00+00:00          0.0\n",
       "\n",
       "[262944 rows x 2 columns]"
      ]
     },
     "execution_count": 6,
     "metadata": {},
     "output_type": "execute_result"
    }
   ],
   "source": [
    "pandas_gbq.read_gbq(sql,project_id=project_id)\n"
   ]
  },
  {
   "cell_type": "markdown",
   "metadata": {},
   "source": [
    "View the data"
   ]
  },
  {
   "cell_type": "code",
   "execution_count": 8,
   "metadata": {},
   "outputs": [
    {
     "data": {
      "text/plain": [
       "<bound method NDFrame.head of                          datetime  hru250\n",
       "0       1970-01-02 00:00:00+00:00     0.0\n",
       "1       1970-01-02 01:00:00+00:00     0.0\n",
       "2       1970-01-02 02:00:00+00:00     0.0\n",
       "3       1970-01-02 03:00:00+00:00     0.0\n",
       "4       1970-01-02 04:00:00+00:00     0.0\n",
       "...                           ...     ...\n",
       "1139520 2099-12-30 20:00:00+00:00     0.0\n",
       "1139521 2099-12-30 21:00:00+00:00     0.0\n",
       "1139522 2099-12-30 22:00:00+00:00     0.0\n",
       "1139523 2099-12-30 23:00:00+00:00     0.0\n",
       "1139524 2099-12-31 00:00:00+00:00     0.0\n",
       "\n",
       "[1139525 rows x 2 columns]>"
      ]
     },
     "execution_count": 8,
     "metadata": {},
     "output_type": "execute_result"
    }
   ],
   "source": []
  }
 ],
 "metadata": {
  "interpreter": {
   "hash": "57baa5815c940fdaff4d14510622de9616cae602444507ba5d0b6727c008cbd6"
  },
  "kernelspec": {
   "display_name": "Python 3 (ipykernel)",
   "language": "python",
   "name": "python3"
  },
  "language_info": {
   "codemirror_mode": {
    "name": "ipython",
    "version": 3
   },
   "file_extension": ".py",
   "mimetype": "text/x-python",
   "name": "python",
   "nbconvert_exporter": "python",
   "pygments_lexer": "ipython3",
   "version": "3.8.12"
  }
 },
 "nbformat": 4,
 "nbformat_minor": 2
}
