{
 "cells": [
  {
   "cell_type": "markdown",
   "metadata": {},
   "source": [
    "# Download hydrology results from BigQuery\n",
    "---"
   ]
  },
  {
   "cell_type": "markdown",
   "metadata": {},
   "source": [
    "## Introduction\n",
    "This notebook provides an example for downloading hydrology modeling results from the Nature Conservancy's Stormwater Heatmap. \n",
    "Access to the `tnc-data-v1` project in Google Cloud Platform is required. \n",
    "\n",
    "For more details and instructions see the [documentation on the stormwater heatmap website](https://www.stormwaterheatmap.org/docs/timeseries). \n",
    "\n",
    "---\n",
    "\n"
   ]
  },
  {
   "cell_type": "markdown",
   "metadata": {},
   "source": [
    "\n",
    "## Variables \n",
    "\n",
    "### Grid ID\n",
    "\n",
    "`grid_id` refers to the WRF precipitation grid id for the location of interest. \n",
    "\n",
    "### HRU \n",
    "`hru` refers to the [hydrologic response unit](https://www.stormwaterheatmap.org/docs/Data%20Layers/hydrologic_response_units) of interest. \n",
    "\n",
    "`hru` contains an three-digit encoding as described below: \n",
    "\n",
    "- First digit: Hydrologic Soil Group Number (0 = A/B, 1 = C, 2 = Saturated)\n",
    "- Second digit: Land cover (0=Forest, 1=Pasture, 2=Lawn, 5=Impervious)\n",
    "- Third Digit: Slope (0=Flat, 1=Mod, 2=Steep)\n",
    "\n",
    "### Flow Path \n",
    "\n",
    "`flow_path` refers to the hspf flow path for which results are calculated. \n",
    "\n",
    "Available flow paths are: \n",
    "- `suro` - Surface Runoff \n",
    "- `ifwo` - Interflow\n",
    "- `agwo` - outflow to groundwater\n",
    "\n",
    "### Datetime\n",
    "\n",
    "`Datetime` is the timestamp for the hourly simulation result. \n",
    "\n",
    "\n"
   ]
  },
  {
   "cell_type": "markdown",
   "metadata": {},
   "source": [
    "## Tables \n",
    "There are two options for accessing result tables: \n",
    "1. Grid and flowpath specific tables\n",
    "2. Single table for all grids \n",
    "\n",
    "### Grid and flowpath specific tables.\n",
    "To reduce query costs, this option should be used when querying a single grid or single flow path. Results have the following schema: `tnc-data-v1.{grid_id}.{flowpath}` \n",
    "```sql\n",
    "SELECT\n",
    "  datetime,\n",
    "  hru\n",
    "FROM\n",
    "  tnc-DATA-v1.{grid_id}.{flowpath}\n",
    "ORDER BY\n",
    "  datetime\n",
    "\n",
    "\n",
    "```\n",
    "\n",
    "### Grid and flowpath specific tables.\n",
    "A single table is available that holds all results. It is found at ```tnc-data-v1.hydrology.gfdl``` This table also includes useful columns such as `year`, `month`, and `simulation_day`\n",
    "\n",
    "You can query this table for flow path and hru results. An example query is below: \n",
    "\n",
    "```sql \n",
    "\n",
    "SELECT\n",
    "  datetime,\n",
    "  SUM(hru250)\n",
    "FROM\n",
    "  tnc-data-v1.hydrology.gfdl\n",
    "WHERE\n",
    "  comp = 'suro'\n",
    "  OR comp = 'agwo'\n",
    "  and year between 1970 and 2000 \n",
    "GROUP BY\n",
    "  datetime\n",
    "ORDER BY\n",
    "  datetime\n",
    "```"
   ]
  },
  {
   "cell_type": "markdown",
   "metadata": {},
   "source": [
    "# Code\n",
    "\n",
    "---\n"
   ]
  },
  {
   "cell_type": "code",
   "execution_count": null,
   "metadata": {},
   "outputs": [],
   "source": [
    "## Install client libraries if needed\n",
    "#!pip install --upgrade pandas-gbq "
   ]
  },
  {
   "cell_type": "code",
   "execution_count": null,
   "metadata": {},
   "outputs": [],
   "source": [
    "#import library\n",
    "import pandas_gbq\n",
    "#import tqdm - optional if you want to see a progress bar\n",
    "#set project id\n",
    "project_id = 'tacoma-app'\n"
   ]
  },
  {
   "cell_type": "markdown",
   "metadata": {},
   "source": [
    "## Parameters "
   ]
  },
  {
   "cell_type": "code",
   "execution_count": null,
   "metadata": {},
   "outputs": [],
   "source": [
    "table = \"`tnc-data-v1.hydrology.gfdl`\" #table where results are \n",
    "hru = \"hru000\" #hru code \n",
    "year_0 = 1970 #beginning year \n",
    "year_n = 1999 #ending year \n",
    "comps = '(\"suro\", \"ifwo\")' #components \n",
    "    #- available options are:  \n",
    "        #suro (surface runoff), \n",
    "        #ifwo (interflow), and \n",
    "        #agwo (groundwater outflow) - generally not used for stormwater results\n",
    "grid = \"'ID15_V5'\" #WRF grid id "
   ]
  },
  {
   "cell_type": "code",
   "execution_count": null,
   "metadata": {},
   "outputs": [],
   "source": [
    "sql = \"\"\"\n",
    "SELECT\n",
    "  Datetime,\n",
    "  SUM({}) AS mm_per_hour\n",
    "FROM\n",
    "  {}\n",
    "WHERE\n",
    "  year BETWEEN {}\n",
    "  AND {}\n",
    "  AND comp in {}\n",
    "  AND grid = {}\n",
    "GROUP BY\n",
    "  Datetime\n",
    "ORDER BY\n",
    "  Datetime\n",
    "\"\"\".format(hru,table,year_0,year_n,comps,grid)"
   ]
  },
  {
   "cell_type": "markdown",
   "metadata": {},
   "source": [
    "Read the table from BigQuery. If not already authenticated, this command will trigger an authentication to Google Cloud Platform in a web browser.  "
   ]
  },
  {
   "cell_type": "code",
   "execution_count": null,
   "metadata": {},
   "outputs": [],
   "source": [
    "pandas_gbq.read_gbq(sql,project_id=project_id)\n"
   ]
  },
  {
   "cell_type": "markdown",
   "metadata": {},
   "source": [
    "View the data"
   ]
  },
  {
   "cell_type": "code",
   "execution_count": null,
   "metadata": {},
   "outputs": [],
   "source": []
  }
 ],
 "metadata": {
  "language_info": {
   "name": "python"
  }
 },
 "nbformat": 4,
 "nbformat_minor": 2
}
