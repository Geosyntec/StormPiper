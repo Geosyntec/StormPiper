{
 "cells": [
  {
   "cell_type": "markdown",
   "metadata": {},
   "source": [
    "# Download hydrology results from BigQuery\n",
    "---"
   ]
  },
  {
   "cell_type": "markdown",
   "metadata": {},
   "source": [
    "## Introduction\n",
    "This notebook provides an example for downloading hydrology modeling results from the Nature Conservancy's Stormwater Heatmap. \n",
    "Access to the `tnc-data-v1` project in Google Cloud Platform is required. \n",
    "\n",
    "For more details and instructions see the [documentation on the stormwater heatmap website](https://www.stormwaterheatmap.org/docs/timeseries). \n",
    "\n",
    "---\n",
    "\n"
   ]
  },
  {
   "cell_type": "markdown",
   "metadata": {},
   "source": [
    "\n",
    "## Variables \n",
    "\n",
    "### Grid ID\n",
    "\n",
    "`grid_id` refers to the WRF precipitation grid id for the location of interest. \n",
    "\n",
    "### HRU \n",
    "`hru` refers to the [hydrologic response unit](https://www.stormwaterheatmap.org/docs/Data%20Layers/hydrologic_response_units) of interest. \n",
    "\n",
    "`hru` contains an three-digit encoding as described below: \n",
    "\n",
    "- First digit: Hydrologic Soil Group Number (0 = A/B, 1 = C, 2 = Saturated)\n",
    "- Second digit: Land cover (0=Forest, 1=Pasture, 2=Lawn, 5=Impervious)\n",
    "- Third Digit: Slope (0=Flat, 1=Mod, 2=Steep)\n",
    "\n",
    "### Flow Path \n",
    "\n",
    "`flow_path` refers to the hspf flow path for which results are calculated. \n",
    "\n",
    "Available flow paths are: \n",
    "- `suro` - Surface Runoff \n",
    "- `ifwo` - Interflow\n",
    "- `agwo` - outflow to groundwater\n",
    "\n",
    "### Datetime\n",
    "\n",
    "`Datetime` is the timestamp for the hourly simulation result. \n",
    "\n",
    "\n"
   ]
  },
  {
   "cell_type": "markdown",
   "metadata": {},
   "source": [
    "## Tables \n",
    "There are two options for accessing result tables: \n",
    "1. Grid and flowpath specific tables\n",
    "2. Single table for all grids \n",
    "\n",
    "### Grid and flowpath specific tables.\n",
    "To reduce query costs, this option should be used when querying a single grid or single flow path. Results have the following schema: `tnc-data-v1.{grid_id}.{flowpath}` \n",
    "```sql\n",
    "SELECT\n",
    "  datetime,\n",
    "  hru\n",
    "FROM\n",
    "  tnc-DATA-v1.{grid_id}.{flowpath}\n",
    "ORDER BY\n",
    "  datetime\n",
    "\n",
    "\n",
    "```\n",
    "\n",
    "### Grid and flowpath specific tables.\n",
    "A single table is available that holds all results. It is found at ```tnc-data-v1.hydrology.gfdl``` This table also includes useful columns such as `year`, `month`, and `simulation_day`\n",
    "\n",
    "You can query this table for flow path and hru results. An example query is below: \n",
    "\n",
    "```sql \n",
    "\n",
    "SELECT\n",
    "  datetime,\n",
    "  SUM(hru250)\n",
    "FROM\n",
    "  tnc-data-v1.hydrology.gfdl\n",
    "WHERE\n",
    "  comp = 'suro'\n",
    "  OR comp = 'agwo'\n",
    "  and year between 1970 and 2000 \n",
    "GROUP BY\n",
    "  datetime\n",
    "ORDER BY\n",
    "  datetime\n",
    "```"
   ]
  },
  {
   "cell_type": "markdown",
   "metadata": {},
   "source": [
    "# Code\n",
    "\n",
    "---\n"
   ]
  },
  {
   "cell_type": "code",
   "execution_count": 9,
   "metadata": {
    "scrolled": false
   },
   "outputs": [],
   "source": [
    "## Install client libraries if needed\n",
    "#!pip install --upgrade pandas-gbq "
   ]
  },
  {
   "cell_type": "code",
   "execution_count": 4,
   "metadata": {},
   "outputs": [],
   "source": [
    "#import library\n",
    "import pandas_gbq\n",
    "import tqdm \n",
    "#set project id\n",
    "project_id = 'tnc-data-v1'\n"
   ]
  },
  {
   "cell_type": "markdown",
   "metadata": {},
   "source": [
    "Create the SQL statement "
   ]
  },
  {
   "cell_type": "code",
   "execution_count": 5,
   "metadata": {},
   "outputs": [],
   "source": [
    "sql = \"\"\"\n",
    "SELECT  datetime, hru250 FROM `tnc-data-v1.ID5_V15.suro` order by datetime\n",
    "\"\"\""
   ]
  },
  {
   "cell_type": "markdown",
   "metadata": {},
   "source": [
    "Read the table from BigQuery. If not already authenticated, this command will trigger an authentication to Google Cloud Platform in a web browser.  "
   ]
  },
  {
   "cell_type": "code",
   "execution_count": 11,
   "metadata": {},
   "outputs": [
    {
     "name": "stderr",
     "output_type": "stream",
     "text": [
      "C:\\Users\\CNilsen\\AppData\\Local\\R-MINI~1\\envs\\py_spatial\\lib\\site-packages\\google\\cloud\\bigquery\\table.py:1980: UserWarning: A progress bar was requested, but there was an error loading the tqdm library. Please install tqdm to use the progress bar functionality.\n",
      "  record_batch = self.to_arrow(\n"
     ]
    }
   ],
   "source": [
    "suro = pandas_gbq.read_gbq(sql, project_id=project_id)\n"
   ]
  },
  {
   "cell_type": "markdown",
   "metadata": {},
   "source": [
    "View the data"
   ]
  },
  {
   "cell_type": "code",
   "execution_count": 8,
   "metadata": {},
   "outputs": [
    {
     "data": {
      "text/plain": [
       "<bound method NDFrame.head of                          datetime  hru250\n",
       "0       1970-01-02 00:00:00+00:00     0.0\n",
       "1       1970-01-02 01:00:00+00:00     0.0\n",
       "2       1970-01-02 02:00:00+00:00     0.0\n",
       "3       1970-01-02 03:00:00+00:00     0.0\n",
       "4       1970-01-02 04:00:00+00:00     0.0\n",
       "...                           ...     ...\n",
       "1139520 2099-12-30 20:00:00+00:00     0.0\n",
       "1139521 2099-12-30 21:00:00+00:00     0.0\n",
       "1139522 2099-12-30 22:00:00+00:00     0.0\n",
       "1139523 2099-12-30 23:00:00+00:00     0.0\n",
       "1139524 2099-12-31 00:00:00+00:00     0.0\n",
       "\n",
       "[1139525 rows x 2 columns]>"
      ]
     },
     "execution_count": 8,
     "metadata": {},
     "output_type": "execute_result"
    }
   ],
   "source": [
    "# view data \n",
    "suro.head"
   ]
  }
 ],
 "metadata": {
  "interpreter": {
   "hash": "57baa5815c940fdaff4d14510622de9616cae602444507ba5d0b6727c008cbd6"
  },
  "kernelspec": {
   "display_name": "Python 3 (ipykernel)",
   "language": "python",
   "name": "python3"
  },
  "language_info": {
   "codemirror_mode": {
    "name": "ipython",
    "version": 3
   },
   "file_extension": ".py",
   "mimetype": "text/x-python",
   "name": "python",
   "nbconvert_exporter": "python",
   "pygments_lexer": "ipython3",
   "version": "3.10.2"
  }
 },
 "nbformat": 4,
 "nbformat_minor": 2
}
