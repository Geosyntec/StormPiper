{
 "cells": [
  {
   "cell_type": "markdown",
   "metadata": {},
   "source": [
    "# Set up Earthengine"
   ]
  },
  {
   "cell_type": "code",
   "execution_count": null,
   "metadata": {},
   "outputs": [],
   "source": [
    "# Import libraries.\n",
    "#--install arcpy if needed\n",
    "#!conda install arcpy=2.9 -c esri\n",
    "import folium\n",
    "import ee"
   ]
  },
  {
   "cell_type": "code",
   "execution_count": null,
   "metadata": {},
   "outputs": [],
   "source": [
    "# Trigger the authentication flow.\n",
    "#ee.Authenticate()\n",
    "\n",
    "# Initialize the library.\n",
    "ee.Initialize()"
   ]
  },
  {
   "cell_type": "code",
   "execution_count": null,
   "metadata": {},
   "outputs": [],
   "source": [
    "def get_upland_ws(geometry, basin_image = ee.Image(\"projects/ee-tacoma-watershed/assets/subbasins_out\")):\n",
    "    basin_id = basin_image.sample(geometry)\n",
    "    id_val = (basin_id.first().get('b1'))\n",
    "    list_elevations = (\n",
    "        basin_id.reduceColumns(\n",
    "            ee.Reducer.toList(), ['b1']).get('list')\n",
    "    )\n",
    "    basin = basin_image.eq(ee.Number(id_val)).selfMask()\n",
    "                  \n",
    "    ##for multiple basins, store an array of elevations\n",
    "    basin_array_image = (ee.Image(ee\n",
    "            .Array(list_elevations)\n",
    "            ))\n",
    "    basintesting2 = basin_array_image.eq(\n",
    "            basin_image).arrayReduce(ee\n",
    "            .Reducer.max(), [0])\n",
    "    \n",
    "    basin_mask = (basintesting2\n",
    "        .arrayDotProduct(ee.Image(1)\n",
    "            .toArray()))\n",
    "    basin = basintesting2\n",
    "    ## ee.Image(\"projects/ee-tacoma-watershed/assets/hand_d8\").rename('hand')\n",
    "    hand_img = ee.Image(\"projects/ee-tacoma-watershed/assets/handpit_breached\").rename('hand')\n",
    "    ## ee.Image(\"projects/ee-tacoma-watershed/assets/elev_above_pits_dem32\").rename('hand')\n",
    "    ##get hand value at point or geometry (for other than a point will get the lowest elevation)\n",
    "    hand_elev = hand_img.sample(geometry).reduceColumns(\n",
    "        reducer = ee.Reducer.min(),\n",
    "        selectors = ['hand']\n",
    "    ).get('min')\n",
    "  \n",
    "    ##add hand info\n",
    "    hand_basin_image = (hand_img\n",
    "        .mask(basin_mask).gte(ee\n",
    "            .Number(hand_elev))\n",
    "        .selfMask())\n",
    "    hand_basin_vect = hand_basin_image.reduceToVectors(maxPixels= 1e12\n",
    "        )\n",
    "    hand_basin_vect = (hand_basin_vect\n",
    "        .union(ee.ErrorMargin(1))\n",
    "        .first())\n",
    "    ##hand_basin_vect = hand_basin_vect.first()\n",
    "    return (ee.Feature(hand_basin_vect))\n",
    "\n",
    "\n",
    "##\n"
   ]
  },
  {
   "cell_type": "code",
   "execution_count": null,
   "metadata": {},
   "outputs": [],
   "source": [
    "pt = ee.Geometry.Point([-122.52633893658201,47.25676548745265])"
   ]
  },
  {
   "cell_type": "code",
   "execution_count": null,
   "metadata": {},
   "outputs": [],
   "source": [
    "shed_example = get_upland_ws(pt)\n",
    "shed_img = ee.Image().paint(shed_example)"
   ]
  },
  {
   "cell_type": "code",
   "execution_count": null,
   "metadata": {},
   "outputs": [],
   "source": [
    "\n",
    "\n"
   ]
  },
  {
   "cell_type": "code",
   "execution_count": null,
   "metadata": {},
   "outputs": [],
   "source": [
    "# Use folium to visualize the imagery.\n"
   ]
  },
  {
   "cell_type": "code",
   "execution_count": null,
   "metadata": {},
   "outputs": [],
   "source": [
    "#get facilities from tacoma "
   ]
  },
  {
   "cell_type": "code",
   "execution_count": null,
   "metadata": {},
   "outputs": [],
   "source": [
    "import os\n",
    "import requests\n"
   ]
  },
  {
   "cell_type": "code",
   "execution_count": null,
   "metadata": {},
   "outputs": [],
   "source": [
    "#read geojson\n",
    "import geojson\n",
    "with open('data/sw_facilities.geojson') as f:\n",
    "    gj = geojson.load(f)\n",
    "features = gj['features']\n",
    "\n"
   ]
  },
  {
   "cell_type": "code",
   "execution_count": null,
   "metadata": {},
   "outputs": [],
   "source": [
    "#get first point \n",
    "pt2 =\n",
    "shed_example = get_upland_ws( ee.Geometry.Point(pt2))\n",
    "#json = response.read()\n",
    "mapid = shed_example.getMapId()\n",
    "\n",
    "ex_map = folium.Map(location=(pt2[1],pt2[0]), zoom_start=15,tiles='Stamen Terrain')\n",
    "\n",
    "folium.raster_layers.TileLayer('Stamen Terrain').add_to(ex_map)\n",
    "\n",
    "folium.GeoJson(features).add_to(ex_map)\n",
    "\n",
    "folium.TileLayer(\n",
    "    tiles=mapid['tile_fetcher'].url_format,\n",
    "    attr='Map Data &copy; <a href=\"https://earthengine.google.com/\">Google Earth Engine</a>',\n",
    "    overlay=True,\n",
    "    name='border',\n",
    "  ).add_to(ex_map)\n",
    "\n",
    "ex_map.add_child(folium.LayerControl())\n",
    "ex_map"
   ]
  },
  {
   "cell_type": "code",
   "execution_count": null,
   "metadata": {},
   "outputs": [],
   "source": [
    "feature_info = shed_example.getInfo()\n",
    "\n",
    "geometry = (feature_info.get('geometry'))\n",
    "i = 0 \n",
    "id = features[i]\n",
    "ALTID = id.properties.get('ALTID')\n",
    "loc =  id.geometry.coordinates\n",
    "shed = shed_example = get_upland_ws(ee.Geometry.Point(loc))\n",
    "\n",
    "shed = shed.getInfo()\n",
    "shed.get('geometry')\n",
    "type(shed)\n",
    "#shed.properties['ALTID'] = ALTID"
   ]
  }
 ],
 "metadata": {
  "language_info": {
   "name": "python"
  }
 },
 "nbformat": 4,
 "nbformat_minor": 4
}
