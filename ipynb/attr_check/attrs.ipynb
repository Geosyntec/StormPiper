{
 "cells": [
  {
   "cell_type": "code",
   "execution_count": null,
   "metadata": {},
   "outputs": [],
   "source": [
    "import pandas\n",
    "import requests\n",
    "from dotenv import dotenv_values\n",
    "\n",
    "\n",
    "def get_token():\n",
    "    cxt = dotenv_values(\"../../.env-dev\")\n",
    "\n",
    "    user = \"admin@geosyntec.com\"\n",
    "    pwd = cxt[\"STP_ADMIN_ACCOUNT_PASSWORD\"]\n",
    "\n",
    "    response = requests.post(\n",
    "        \"http://localhost:8080/auth/jwt-bearer/login\",\n",
    "        data={\"username\": user, \"password\": pwd},\n",
    "    )\n",
    "\n",
    "    token = response.json().get(\"access_token\", \"error\")\n",
    "\n",
    "    return token"
   ]
  },
  {
   "cell_type": "code",
   "execution_count": null,
   "metadata": {},
   "outputs": [],
   "source": [
    "TOKEN = get_token()\n",
    "req = requests.get(\"http://localhost:8080/api/rest/tmnt_facility\", headers={'Authorization': f\"Bearer {TOKEN}\"})\n",
    "df = pandas.read_json(req.text)\n",
    "df.to_csv(\"facility_default_attributes.csv\")\n"
   ]
  },
  {
   "cell_type": "code",
   "execution_count": null,
   "metadata": {},
   "outputs": [],
   "source": []
  }
 ],
 "metadata": {
  "kernelspec": {
   "display_name": "Python 3.9.13 ('leo')",
   "language": "python",
   "name": "python3"
  },
  "language_info": {
   "codemirror_mode": {
    "name": "ipython",
    "version": 3
   },
   "file_extension": ".py",
   "mimetype": "text/x-python",
   "name": "python",
   "nbconvert_exporter": "python",
   "pygments_lexer": "ipython3",
   "version": "3.9.13"
  },
  "orig_nbformat": 4,
  "vscode": {
   "interpreter": {
    "hash": "aab23f4a5ffcc8d24eacf4d239163b93ed8a0a168b3cae9b304879e3b9c36619"
   }
  }
 },
 "nbformat": 4,
 "nbformat_minor": 2
}
